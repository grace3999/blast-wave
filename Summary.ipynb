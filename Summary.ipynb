{
 "cells": [
  {
   "cell_type": "markdown",
   "metadata": {},
   "source": [
    "Goal of analysis script is to analyze blast wave summary data from a specified directory (usually all of the blast waves from a specific experiment). Loop through directory to import data from each Summary data file (in csv) and store specified data in numpy array: row 1 = pulse duration (ms; use column 0), row 2 = peak intensity (psi; use column 1), row 3 = impulse (psi x ms; use column 0)), want to find average and SE for each parameter and save in excel file."
   ]
  },
  {
   "cell_type": "markdown",
   "metadata": {},
   "source": [
    "Import numpy"
   ]
  },
  {
   "cell_type": "code",
   "execution_count": 15,
   "metadata": {
    "collapsed": true
   },
   "outputs": [],
   "source": [
    "import numpy as np"
   ]
  },
  {
   "cell_type": "markdown",
   "metadata": {},
   "source": [
    "Open dialog box and prompt user to select directory containing the blast wave summary files"
   ]
  },
  {
   "cell_type": "code",
   "execution_count": 16,
   "metadata": {},
   "outputs": [
    {
     "name": "stdout",
     "output_type": "stream",
     "text": [
      "C:/Users/Schindler/Desktop/Schindler_Lab/Data/Blast data/9.10_9.12/Summary\n"
     ]
    }
   ],
   "source": [
    "from tkinter import filedialog\n",
    "from tkinter import *\n",
    "root = Tk()\n",
    "root.directory = filedialog.askdirectory()\n",
    "print (root.directory)"
   ]
  },
  {
   "cell_type": "markdown",
   "metadata": {},
   "source": [
    "Use os module to create list of summary files"
   ]
  },
  {
   "cell_type": "code",
   "execution_count": 17,
   "metadata": {},
   "outputs": [
    {
     "name": "stdout",
     "output_type": "stream",
     "text": [
      "['SUMMARY 9-10-2017 113 PMHelium .csv', 'SUMMARY 9-10-2017 121 PMHelium .csv', 'SUMMARY 9-10-2017 129 PMHelium .csv', 'SUMMARY 9-10-2017 137 PMHelium .csv', 'SUMMARY 9-10-2017 146 PMHelium .csv', 'SUMMARY 9-10-2017 154 PMHelium .csv', 'SUMMARY 9-10-2017 203 PMHelium .csv', 'SUMMARY 9-10-2017 213 PMHelium .csv', 'SUMMARY 9-10-2017 222 PMHelium .csv', 'SUMMARY 9-10-2017 230 PMHelium .csv', 'SUMMARY 9-11-2017 201 PMHelium .csv', 'SUMMARY 9-11-2017 204 PMHelium .csv', 'SUMMARY 9-11-2017 214 PMHelium .csv', 'SUMMARY 9-11-2017 223 PMHelium .csv', 'SUMMARY 9-11-2017 234 PMHelium .csv', 'SUMMARY 9-11-2017 245 PMHelium .csv', 'SUMMARY 9-11-2017 255 PMHelium .csv', 'SUMMARY 9-11-2017 306 PMHelium .csv', 'SUMMARY 9-11-2017 316 PMHelium .csv', 'SUMMARY 9-11-2017 325 PMHelium .csv', 'SUMMARY 9-11-2017 334 PMHelium .csv', 'SUMMARY 9-11-2017 344 PMHelium .csv', 'SUMMARY 9-11-2017 352 PMHelium .csv', 'SUMMARY 9-11-2017 941 AMHelium .csv', 'SUMMARY 9-11-2017 947 AMHelium .csv', 'SUMMARY 9-11-2017 955 AMHelium .csv', 'SUMMARY 9-12-2017 215 PMHelium .csv', 'SUMMARY 9-12-2017 225 PMHelium .csv', 'SUMMARY 9-12-2017 235 PMHelium .csv', 'SUMMARY 9-12-2017 246 PMHelium .csv', 'SUMMARY 9-12-2017 259 PMHelium .csv', 'SUMMARY 9-12-2017 308 PMHelium .csv', 'SUMMARY 9-12-2017 319 PMHelium .csv', 'SUMMARY 9-12-2017 328 PMHelium .csv', 'SUMMARY 9-12-2017 339 PMHelium .csv', 'SUMMARY 9-12-2017 349 PMHelium .csv', 'SUMMARY 9-12-2017 358 PMHelium .csv']\n"
     ]
    }
   ],
   "source": [
    "import os\n",
    "files = os.listdir(root.directory)\n",
    "print(files)"
   ]
  },
  {
   "cell_type": "markdown",
   "metadata": {},
   "source": [
    "Loop through file names and add the root directory, then append to a new list "
   ]
  },
  {
   "cell_type": "code",
   "execution_count": 18,
   "metadata": {
    "scrolled": true
   },
   "outputs": [
    {
     "name": "stdout",
     "output_type": "stream",
     "text": [
      "C:/Users/Schindler/Desktop/Schindler_Lab/Data/Blast data/9.10_9.12/Summary/SUMMARY 9-10-2017 113 PMHelium .csv\n"
     ]
    }
   ],
   "source": [
    "path_names = []\n",
    "for row in files:\n",
    "    path_names.append(root.directory + \"/\" + row)\n",
    "    \n",
    "print(path_names[0])"
   ]
  },
  {
   "cell_type": "markdown",
   "metadata": {},
   "source": [
    "Create parameter lists. Loop through path_names to extract desired data for each parameter"
   ]
  },
  {
   "cell_type": "code",
   "execution_count": 19,
   "metadata": {},
   "outputs": [
    {
     "name": "stdout",
     "output_type": "stream",
     "text": [
      "[5.8984, 6.2109, 5.9766, 6.25, 5.9375, 6.2109, 6.0156, 6.3281, 5.3906, 5.7422, 6.0156, 5.6641, 5.9766, 5.8984, 5.5859, 6.0156, 5.7813, 6.1328, 6.1328, 5.6641, 6.1719, 5.3125, 5.5859, 5.0391, 4.9609, 4.8438, 5.4297, 5.7422, 5.5859, 5.6641, 5.5859, 5.8594, 6.1719, 5.625, 5.6641, 5.9766]\n",
      "[20.359, 16.859, 17.781, 18.234, 19.484, 17.797, 17.953, 17.844, 21.578, 21.969, 16.813, 21.672, 19.125, 18.813, 21.266, 18.672, 21.0, 22.609, 17.984, 17.969, 20.813, 20.172, 20.141, 18.672, 23.406, 22.328, 21.0, 21.625, 19.672, 20.5, 21.313, 21.156, 22.219, 19.813, 20.344, 17.703, 18.891]\n",
      "[0.037994, 0.036987, 0.036011, 0.036011, 0.039001, 0.039001, 0.039001, 0.040985, 0.033997, 0.033997, 0.040009, 0.035004, 0.040009, 0.039001, 0.037994, 0.036011, 0.036987, 0.040009, 0.036987, 0.039001, 0.040009, 0.032013, 0.039001, 0.036987, 0.033997, 0.033997, 0.033997, 0.037994, 0.036987, 0.039001, 0.036987, 0.037994, 0.040009, 0.039001, 0.037994, 0.040009]\n"
     ]
    }
   ],
   "source": [
    "duration = []\n",
    "intensity = []\n",
    "impulse = []\n",
    "\n",
    "for row in path_names:\n",
    "    data = np.genfromtxt(row, delimiter=\"\\t\", dtype='float16')\n",
    "    if data[0][0] > 0:\n",
    "        duration.append(data[0][0])\n",
    "    if data[1][1] > 0:\n",
    "        intensity.append(data[1][1])\n",
    "    if data[2][0] > 0:\n",
    "        impulse.append(data[2][0])\n",
    "    \n",
    "print(duration)\n",
    "print(intensity)\n",
    "print(impulse)"
   ]
  },
  {
   "cell_type": "markdown",
   "metadata": {},
   "source": [
    "Find mean and SE for each parameter list"
   ]
  },
  {
   "cell_type": "code",
   "execution_count": 26,
   "metadata": {},
   "outputs": [],
   "source": [
    "duration_mean = np.array(duration).mean()\n",
    "intensity_mean = np.array(intensity).mean()\n",
    "impulse_mean = np.array(impulse).mean()\n",
    "\n",
    "duration_std = np.array(duration).std()\n",
    "intensity_std = np.array(intensity).std()\n",
    "impulse_std = np.array(impulse).std()\n",
    "\n",
    "duration_SEM = duration_std/(np.sqrt(len(duration)))\n",
    "intensity_SEM = intensity_std/(np.sqrt(len(intensity)))\n",
    "impulse_SEM = impulse_std/(np.sqrt(len(impulse)))\n",
    "\n",
    "param_mean = [duration_mean, intensity_mean, impulse_mean]\n",
    "param_SEM = [duration_SEM, intensity_SEM, impulse_SEM]\n",
    "param_names = [\"duration\", 'intensity', 'impulse']\n",
    "\n"
   ]
  },
  {
   "cell_type": "markdown",
   "metadata": {},
   "source": [
    "Summarize data for easier export to excel"
   ]
  },
  {
   "cell_type": "code",
   "execution_count": 27,
   "metadata": {
    "scrolled": true
   },
   "outputs": [
    {
     "name": "stdout",
     "output_type": "stream",
     "text": [
      "[{'duration': 5.7773, 'intensity': 19.875, 'impulse': 0.037506}, {'duration': 0.059651692708333336, 'intensity': 0.28400567240544633, 'impulse': 0.00036843617757161457}]\n"
     ]
    }
   ],
   "source": [
    "i = 0\n",
    "summary_mean = {}\n",
    "for row in param_names:\n",
    "    summary_mean[row] = param_mean[i]\n",
    "    i = i + 1\n",
    "\n",
    "i = 0\n",
    "summary_SEM = {}\n",
    "for row in param_names:\n",
    "    summary_SEM[row] = param_SEM[i]\n",
    "    i = i + 1\n",
    "\n",
    "summary = [summary_mean, summary_SEM]\n",
    "\n",
    "print(summary)"
   ]
  },
  {
   "cell_type": "markdown",
   "metadata": {},
   "source": [
    "Use pandas to convert summary to a df. Use ExcelWriter to export the df to an excel workboook."
   ]
  },
  {
   "cell_type": "code",
   "execution_count": 28,
   "metadata": {
    "collapsed": true
   },
   "outputs": [],
   "source": [
    "import pandas as pd\n",
    "df = pd.DataFrame(data = summary)\n",
    "writer = pd.ExcelWriter('Summary.xlsx', engine='xlsxwriter')\n",
    "df.to_excel(writer)\n",
    "writer.save()"
   ]
  },
  {
   "cell_type": "markdown",
   "metadata": {
    "collapsed": true
   },
   "source": [
    "Use pyinstaller to make into .exe for use by lab members"
   ]
  },
  {
   "cell_type": "code",
   "execution_count": null,
   "metadata": {
    "collapsed": true
   },
   "outputs": [],
   "source": []
  }
 ],
 "metadata": {
  "kernelspec": {
   "display_name": "Python 3",
   "language": "python",
   "name": "python3"
  },
  "language_info": {
   "codemirror_mode": {
    "name": "ipython",
    "version": 3
   },
   "file_extension": ".py",
   "mimetype": "text/x-python",
   "name": "python",
   "nbconvert_exporter": "python",
   "pygments_lexer": "ipython3",
   "version": "3.6.3"
  }
 },
 "nbformat": 4,
 "nbformat_minor": 2
}
