{
 "cells": [
  {
   "cell_type": "markdown",
   "metadata": {},
   "source": [
    "Goal of script is to create array of blast wave intensity data (psi; use second column of psi data (corresponds to sensor by subject) from a specified directory (usually all of the blast waves from a specific experiment) to be used for blast wave figure generation. "
   ]
  },
  {
   "cell_type": "markdown",
   "metadata": {},
   "source": [
    "Import numpy and pandas"
   ]
  },
  {
   "cell_type": "code",
   "execution_count": 62,
   "metadata": {},
   "outputs": [],
   "source": [
    "import numpy as np\n",
    "import pandas as pd\n",
    "from tkinter import filedialog\n",
    "from tkinter import *\n",
    "#visualizing results\n",
    "import matplotlib.pyplot as plt\n",
    "%matplotlib inline\n",
    "import seaborn as sns\n",
    "sns.set_context('poster', rc={'font.size':20,\n",
    "                              'axes.titlesize':20,\n",
    "                              'axes.labelsize':25})\n",
    "from matplotlib import rcParams\n",
    "rcParams.update({'figure.autolayout': True})"
   ]
  },
  {
   "cell_type": "markdown",
   "metadata": {},
   "source": [
    "Open dialog box and prompt user to select directory containing the blast wave summary files"
   ]
  },
  {
   "cell_type": "code",
   "execution_count": 2,
   "metadata": {},
   "outputs": [
    {
     "name": "stdout",
     "output_type": "stream",
     "text": [
      "C:/Users/Schindler/Documents/Schindler_Lab/Manuscripts/PStress_blast/data/blast_data/Wave\n"
     ]
    }
   ],
   "source": [
    "root = Tk()\n",
    "root.directory = filedialog.askdirectory()\n",
    "print (root.directory)"
   ]
  },
  {
   "cell_type": "markdown",
   "metadata": {},
   "source": [
    "Use os module to create list of wave files"
   ]
  },
  {
   "cell_type": "code",
   "execution_count": 3,
   "metadata": {},
   "outputs": [
    {
     "name": "stdout",
     "output_type": "stream",
     "text": [
      "368\n"
     ]
    }
   ],
   "source": [
    "import os\n",
    "files = os.listdir(root.directory)\n",
    "print(len(files))"
   ]
  },
  {
   "cell_type": "markdown",
   "metadata": {},
   "source": [
    "Loop through file names and add the root directory, then append to a new list "
   ]
  },
  {
   "cell_type": "code",
   "execution_count": 4,
   "metadata": {
    "scrolled": true
   },
   "outputs": [
    {
     "name": "stdout",
     "output_type": "stream",
     "text": [
      "C:/Users/Schindler/Documents/Schindler_Lab/Manuscripts/PStress_blast/data/blast_data/Wave/1-15-2018 152 PMHelium .csv\n"
     ]
    }
   ],
   "source": [
    "path_names = []\n",
    "for row in files:\n",
    "    path_names.append(root.directory + \"/\" + row)\n",
    "    \n",
    "print(path_names[0])"
   ]
  },
  {
   "cell_type": "markdown",
   "metadata": {},
   "source": [
    "Loop through path_names, read in data from each file, select only first 25ms of wave, append to new list, take second sensor data, align according to max value, put in final array."
   ]
  },
  {
   "cell_type": "code",
   "execution_count": 17,
   "metadata": {
    "scrolled": true
   },
   "outputs": [
    {
     "name": "stdout",
     "output_type": "stream",
     "text": [
      "C:/Users/Schindler/Documents/Schindler_Lab/Manuscripts/PStress_blast/data/blast_data/Wave/11-5-2018 145 PMHelium .csv\n",
      "C:/Users/Schindler/Documents/Schindler_Lab/Manuscripts/PStress_blast/data/blast_data/Wave/11-8-2019 1102 AMHelium .csv\n",
      "C:/Users/Schindler/Documents/Schindler_Lab/Manuscripts/PStress_blast/data/blast_data/Wave/11-8-2019 1153 AMHelium .csv\n",
      "C:/Users/Schindler/Documents/Schindler_Lab/Manuscripts/PStress_blast/data/blast_data/Wave/3-9-2019 138 PMHelium .csv\n",
      "C:/Users/Schindler/Documents/Schindler_Lab/Manuscripts/PStress_blast/data/blast_data/Wave/7-10-2019 1120 AMHelium .csv\n",
      "C:/Users/Schindler/Documents/Schindler_Lab/Manuscripts/PStress_blast/data/blast_data/Wave/8-5-2018 318 PMHelium .csv\n"
     ]
    }
   ],
   "source": [
    "wave_final = []\n",
    "for row in path_names:\n",
    "    try:\n",
    "        wave = pd.read_csv(row, delimiter=\"\\t\")\n",
    "        short_wave = pd.DataFrame(data = wave[3:800])\n",
    "        short_wave_new = np.array(short_wave)\n",
    "        short_wave_array = []\n",
    "        for row in short_wave_new:\n",
    "            short_wave_array.append(np.float(row[2]))\n",
    "        wave_dic = {}\n",
    "        i = - 40   \n",
    "        while i < 0:\n",
    "            wave_dic[i] = short_wave_array[np.argmax(short_wave_array) + i]\n",
    "            i = i + 1\n",
    "\n",
    "        i = 0 \n",
    "        while i < 720:\n",
    "            wave_dic[i] = short_wave_array[np.argmax(short_wave_array) + i]\n",
    "            i = i + 1\n",
    "    \n",
    "        wave_final.append(wave_dic.values())\n",
    "    except:\n",
    "        print(row)"
   ]
  },
  {
   "cell_type": "code",
   "execution_count": 18,
   "metadata": {},
   "outputs": [
    {
     "data": {
      "text/plain": [
       "(797, 5)"
      ]
     },
     "execution_count": 18,
     "metadata": {},
     "output_type": "execute_result"
    }
   ],
   "source": [
    "short_wave.shape"
   ]
  },
  {
   "cell_type": "code",
   "execution_count": 29,
   "metadata": {},
   "outputs": [
    {
     "name": "stdout",
     "output_type": "stream",
     "text": [
      "(809, 2)\n"
     ]
    },
    {
     "data": {
      "text/html": [
       "<div>\n",
       "<style scoped>\n",
       "    .dataframe tbody tr th:only-of-type {\n",
       "        vertical-align: middle;\n",
       "    }\n",
       "\n",
       "    .dataframe tbody tr th {\n",
       "        vertical-align: top;\n",
       "    }\n",
       "\n",
       "    .dataframe thead th {\n",
       "        text-align: right;\n",
       "    }\n",
       "</style>\n",
       "<table border=\"1\" class=\"dataframe\">\n",
       "  <thead>\n",
       "    <tr style=\"text-align: right;\">\n",
       "      <th></th>\n",
       "      <th>Time (mSec)</th>\n",
       "      <th>Friedlander Waveform</th>\n",
       "    </tr>\n",
       "  </thead>\n",
       "  <tbody>\n",
       "    <tr>\n",
       "      <th>0</th>\n",
       "      <td>-1.521</td>\n",
       "      <td>0.0</td>\n",
       "    </tr>\n",
       "    <tr>\n",
       "      <th>1</th>\n",
       "      <td>-1.482</td>\n",
       "      <td>0.0</td>\n",
       "    </tr>\n",
       "    <tr>\n",
       "      <th>2</th>\n",
       "      <td>-1.443</td>\n",
       "      <td>0.0</td>\n",
       "    </tr>\n",
       "    <tr>\n",
       "      <th>3</th>\n",
       "      <td>-1.404</td>\n",
       "      <td>0.0</td>\n",
       "    </tr>\n",
       "    <tr>\n",
       "      <th>4</th>\n",
       "      <td>-1.365</td>\n",
       "      <td>0.0</td>\n",
       "    </tr>\n",
       "  </tbody>\n",
       "</table>\n",
       "</div>"
      ],
      "text/plain": [
       "   Time (mSec)  Friedlander Waveform\n",
       "0       -1.521                   0.0\n",
       "1       -1.482                   0.0\n",
       "2       -1.443                   0.0\n",
       "3       -1.404                   0.0\n",
       "4       -1.365                   0.0"
      ]
     },
     "execution_count": 29,
     "metadata": {},
     "output_type": "execute_result"
    }
   ],
   "source": [
    "#read in file containing data for Friedlander curve (TNT example trace)\n",
    "path_TNT = 'C:/Users/Schindler/Documents/Schindler_Lab/Data/Blast data/friedlander.xlsx'\n",
    "data_TNT = pd.read_excel(path_TNT)\n",
    "df_TNT = pd.DataFrame(data = data_TNT)\n",
    "print(df_TNT.shape)\n",
    "df_TNT.head()"
   ]
  },
  {
   "cell_type": "code",
   "execution_count": 57,
   "metadata": {},
   "outputs": [
    {
     "data": {
      "text/plain": [
       "<matplotlib.axes._subplots.AxesSubplot at 0x218b63d6f28>"
      ]
     },
     "execution_count": 57,
     "metadata": {},
     "output_type": "execute_result"
    },
    {
     "data": {
      "image/png": "[encoded data removed]",
      "text/plain": [
       "<Figure size 432x288 with 1 Axes>"
      ]
     },
     "metadata": {
      "needs_background": "light"
     },
     "output_type": "display_data"
    }
   ],
   "source": [
    "#viz TNT wave\n",
    "sns.lineplot(x=df_TNT['Time (mSec)'], y=df_TNT['Friedlander Waveform'])"
   ]
  },
  {
   "cell_type": "code",
   "execution_count": 34,
   "metadata": {},
   "outputs": [
    {
     "name": "stdout",
     "output_type": "stream",
     "text": [
      "(275120, 3)\n"
     ]
    },
    {
     "data": {
      "text/html": [
       "<div>\n",
       "<style scoped>\n",
       "    .dataframe tbody tr th:only-of-type {\n",
       "        vertical-align: middle;\n",
       "    }\n",
       "\n",
       "    .dataframe tbody tr th {\n",
       "        vertical-align: top;\n",
       "    }\n",
       "\n",
       "    .dataframe thead th {\n",
       "        text-align: right;\n",
       "    }\n",
       "</style>\n",
       "<table border=\"1\" class=\"dataframe\">\n",
       "  <thead>\n",
       "    <tr style=\"text-align: right;\">\n",
       "      <th></th>\n",
       "      <th>time</th>\n",
       "      <th>variable</th>\n",
       "      <th>Pressure (psi)</th>\n",
       "    </tr>\n",
       "  </thead>\n",
       "  <tbody>\n",
       "    <tr>\n",
       "      <th>0</th>\n",
       "      <td>-1.521</td>\n",
       "      <td>0</td>\n",
       "      <td>0.170712</td>\n",
       "    </tr>\n",
       "    <tr>\n",
       "      <th>1</th>\n",
       "      <td>-1.482</td>\n",
       "      <td>0</td>\n",
       "      <td>0.122565</td>\n",
       "    </tr>\n",
       "    <tr>\n",
       "      <th>2</th>\n",
       "      <td>-1.443</td>\n",
       "      <td>0</td>\n",
       "      <td>-0.030927</td>\n",
       "    </tr>\n",
       "    <tr>\n",
       "      <th>3</th>\n",
       "      <td>-1.404</td>\n",
       "      <td>0</td>\n",
       "      <td>-0.059026</td>\n",
       "    </tr>\n",
       "    <tr>\n",
       "      <th>4</th>\n",
       "      <td>-1.365</td>\n",
       "      <td>0</td>\n",
       "      <td>0.020454</td>\n",
       "    </tr>\n",
       "  </tbody>\n",
       "</table>\n",
       "</div>"
      ],
      "text/plain": [
       "    time variable  Pressure (psi)\n",
       "0 -1.521        0        0.170712\n",
       "1 -1.482        0        0.122565\n",
       "2 -1.443        0       -0.030927\n",
       "3 -1.404        0       -0.059026\n",
       "4 -1.365        0        0.020454"
      ]
     },
     "execution_count": 34,
     "metadata": {},
     "output_type": "execute_result"
    }
   ],
   "source": [
    "#create df and transpose\n",
    "df = pd.DataFrame(data = wave_final)\n",
    "wave_final_transp = df.T\n",
    "#add time column (use time from TNT wave)\n",
    "wave_final_transp['time'] = df_TNT['Time (mSec)']\n",
    "#rearrange df for graphing\n",
    "df_melt = wave_final_transp.melt(id_vars='time', value_name='Pressure (psi)')\n",
    "print(df_melt.shape)\n",
    "df_melt.head()"
   ]
  },
  {
   "cell_type": "code",
   "execution_count": 63,
   "metadata": {},
   "outputs": [
    {
     "name": "stderr",
     "output_type": "stream",
     "text": [
      "C:\\ProgramData\\Anaconda3\\lib\\site-packages\\matplotlib\\figure.py:2299: UserWarning: This figure includes Axes that are not compatible with tight_layout, so results might be incorrect.\n",
      "  warnings.warn(\"This figure includes Axes that are not compatible \"\n"
     ]
    },
    {
     "data": {
      "image/png": "[encoded data removed]",
      "text/plain": [
       "<Figure size 432x288 with 1 Axes>"
      ]
     },
     "metadata": {
      "needs_background": "light"
     },
     "output_type": "display_data"
    }
   ],
   "source": [
    "#viz both wave forms\n",
    "g = sns.lineplot(x=df_TNT['Time (mSec)'], y=df_TNT['Friedlander Waveform'], color=\"blue\", label='TNT Standard')\n",
    "g = sns.lineplot(x=df_melt['time'], y=df_melt['Pressure (psi)'], color=\"red\", label='Shock Tube')\n",
    "g.figure.savefig('wave.jpeg')"
   ]
  },
  {
   "cell_type": "markdown",
   "metadata": {},
   "source": [
    "Save data in excel"
   ]
  },
  {
   "cell_type": "code",
   "execution_count": null,
   "metadata": {},
   "outputs": [],
   "source": [
    "df = pd.DataFrame(data = wave_final_transp)\n",
    "writer = pd.ExcelWriter('Wave.xlsx', engine='xlsxwriter')\n",
    "df.to_excel(writer)\n",
    "writer.save()"
   ]
  },
  {
   "cell_type": "markdown",
   "metadata": {
    "collapsed": true
   },
   "source": [
    "Use pyinstaller to make exe for lab members to use"
   ]
  }
 ],
 "metadata": {
  "kernelspec": {
   "display_name": "Python 3",
   "language": "python",
   "name": "python3"
  },
  "language_info": {
   "codemirror_mode": {
    "name": "ipython",
    "version": 3
   },
   "file_extension": ".py",
   "mimetype": "text/x-python",
   "name": "python",
   "nbconvert_exporter": "python",
   "pygments_lexer": "ipython3",
   "version": "3.6.9"
  }
 },
 "nbformat": 4,
 "nbformat_minor": 2
}
