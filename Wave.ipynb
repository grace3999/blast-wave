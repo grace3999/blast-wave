{
 "cells": [
  {
   "cell_type": "markdown",
   "metadata": {},
   "source": [
    "Goal of script is to create array of blast wave intensity data (psi; use second column of psi data (corresponds to sensor by subject) from a specified directory (usually all of the blast waves from a specific experiment) to be used for blast wave figure generation. "
   ]
  },
  {
   "cell_type": "markdown",
   "metadata": {},
   "source": [
    "Import numpy and pandas"
   ]
  },
  {
   "cell_type": "code",
   "execution_count": 1,
   "metadata": {
    "collapsed": true
   },
   "outputs": [],
   "source": [
    "import numpy as np\n",
    "import pandas as pd"
   ]
  },
  {
   "cell_type": "markdown",
   "metadata": {},
   "source": [
    "Open dialog box and prompt user to select directory containing the blast wave summary files"
   ]
  },
  {
   "cell_type": "code",
   "execution_count": 2,
   "metadata": {},
   "outputs": [
    {
     "name": "stdout",
     "output_type": "stream",
     "text": [
      "C:/Users/Schindler/Desktop/Schindler_Lab/Data/Blast data/9.10_9.12/Wave\n"
     ]
    }
   ],
   "source": [
    "from tkinter import filedialog\n",
    "from tkinter import *\n",
    "root = Tk()\n",
    "root.directory = filedialog.askdirectory()\n",
    "print (root.directory)"
   ]
  },
  {
   "cell_type": "markdown",
   "metadata": {},
   "source": [
    "Use os module to create list of wave files"
   ]
  },
  {
   "cell_type": "code",
   "execution_count": 3,
   "metadata": {},
   "outputs": [
    {
     "name": "stdout",
     "output_type": "stream",
     "text": [
      "['9-10-2017 104 PMHelium .csv', '9-10-2017 113 PMHelium .csv', '9-10-2017 121 PMHelium .csv', '9-10-2017 129 PMHelium .csv', '9-10-2017 137 PMHelium .csv', '9-10-2017 146 PMHelium .csv', '9-10-2017 154 PMHelium .csv', '9-10-2017 203 PMHelium .csv', '9-10-2017 213 PMHelium .csv', '9-10-2017 222 PMHelium .csv', '9-10-2017 230 PMHelium .csv', '9-11-2017 201 PMHelium .csv', '9-11-2017 204 PMHelium .csv', '9-11-2017 214 PMHelium .csv', '9-11-2017 223 PMHelium .csv', '9-11-2017 234 PMHelium .csv', '9-11-2017 245 PMHelium .csv', '9-11-2017 255 PMHelium .csv', '9-11-2017 306 PMHelium .csv', '9-11-2017 316 PMHelium .csv', '9-11-2017 325 PMHelium .csv', '9-11-2017 334 PMHelium .csv', '9-11-2017 344 PMHelium .csv', '9-11-2017 352 PMHelium .csv', '9-11-2017 941 AMHelium .csv', '9-11-2017 947 AMHelium .csv', '9-11-2017 955 AMHelium .csv', '9-12-2017 215 PMHelium .csv', '9-12-2017 225 PMHelium .csv', '9-12-2017 235 PMHelium .csv', '9-12-2017 246 PMHelium .csv', '9-12-2017 259 PMHelium .csv', '9-12-2017 308 PMHelium .csv', '9-12-2017 319 PMHelium .csv', '9-12-2017 328 PMHelium .csv', '9-12-2017 339 PMHelium .csv', '9-12-2017 349 PMHelium .csv', '9-12-2017 358 PMHelium .csv']\n"
     ]
    }
   ],
   "source": [
    "import os\n",
    "files = os.listdir(root.directory)\n",
    "print(files)"
   ]
  },
  {
   "cell_type": "markdown",
   "metadata": {},
   "source": [
    "Loop through file names and add the root directory, then append to a new list "
   ]
  },
  {
   "cell_type": "code",
   "execution_count": 4,
   "metadata": {
    "scrolled": true
   },
   "outputs": [
    {
     "name": "stdout",
     "output_type": "stream",
     "text": [
      "C:/Users/Schindler/Desktop/Schindler_Lab/Data/Blast data/9.10_9.12/Wave/9-10-2017 104 PMHelium .csv\n"
     ]
    }
   ],
   "source": [
    "path_names = []\n",
    "for row in files:\n",
    "    path_names.append(root.directory + \"/\" + row)\n",
    "    \n",
    "print(path_names[0])"
   ]
  },
  {
   "cell_type": "markdown",
   "metadata": {},
   "source": [
    "Loop through path_names, read in data from each file, select only first 25ms of wave, append to new list, take second sensor data, align according to max value, put in final array."
   ]
  },
  {
   "cell_type": "code",
   "execution_count": 5,
   "metadata": {
    "collapsed": true,
    "scrolled": true
   },
   "outputs": [],
   "source": [
    "wave_final = []\n",
    "for row in path_names:\n",
    "    wave = pd.read_csv(row, delimiter=\"\\t\")\n",
    "    short_wave = pd.DataFrame(data = wave[3:800])\n",
    "    short_wave_new = np.array(short_wave)\n",
    "    short_wave_array = []\n",
    "    for row in short_wave_new:\n",
    "        short_wave_array.append(np.float(row[2]))\n",
    "    wave_dic = {}\n",
    "    i = - 40   \n",
    "    while i < 0:\n",
    "        wave_dic[i] = short_wave_array[np.argmax(short_wave_array) + i]\n",
    "        i = i + 1\n",
    "\n",
    "    i = 0 \n",
    "    while i < 700:\n",
    "        wave_dic[i] = short_wave_array[np.argmax(short_wave_array) + i]\n",
    "        i = i + 1\n",
    "    \n",
    "    wave_final.append(wave_dic.values())"
   ]
  },
  {
   "cell_type": "markdown",
   "metadata": {},
   "source": [
    "Transpose data"
   ]
  },
  {
   "cell_type": "code",
   "execution_count": 13,
   "metadata": {
    "collapsed": true
   },
   "outputs": [],
   "source": [
    "df = pd.DataFrame(data = wave_final)\n",
    "wave_final_transp = df.T"
   ]
  },
  {
   "cell_type": "markdown",
   "metadata": {},
   "source": [
    "Save data in excel"
   ]
  },
  {
   "cell_type": "code",
   "execution_count": 14,
   "metadata": {
    "collapsed": true
   },
   "outputs": [],
   "source": [
    "df = pd.DataFrame(data = wave_final_transp)\n",
    "writer = pd.ExcelWriter('Wave.xlsx', engine='xlsxwriter')\n",
    "df.to_excel(writer)\n",
    "writer.save()"
   ]
  },
  {
   "cell_type": "markdown",
   "metadata": {
    "collapsed": true
   },
   "source": [
    "Use pyinstaller to make exe for lab members to use"
   ]
  },
  {
   "cell_type": "code",
   "execution_count": null,
   "metadata": {
    "collapsed": true
   },
   "outputs": [],
   "source": []
  }
 ],
 "metadata": {
  "kernelspec": {
   "display_name": "Python 3",
   "language": "python",
   "name": "python3"
  },
  "language_info": {
   "codemirror_mode": {
    "name": "ipython",
    "version": 3
   },
   "file_extension": ".py",
   "mimetype": "text/x-python",
   "name": "python",
   "nbconvert_exporter": "python",
   "pygments_lexer": "ipython3",
   "version": "3.6.3"
  }
 },
 "nbformat": 4,
 "nbformat_minor": 2
}
